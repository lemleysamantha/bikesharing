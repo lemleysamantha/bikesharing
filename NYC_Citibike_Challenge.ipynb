import pandas as pd

# 1. Create a DataFrame for the 201908-citibike-tripdata data. 

bike_data_loaded = "201908-citibike-tripdata.csv"
bike_data_df = pd.read_csv(bike_data_loaded)

# 2. Check the datatypes of your columns. 
bike_data_df.info()

# 3. Convert the 'tripduration' column to datetime datatype.

bike_data_df['tripduration'] = pd.to_datetime(bike_data_df['tripduration'], unit = 's')

# 4. Check the datatypes of your columns. 

bike_data_df.info()

bike_data_df.head()

# 5. Export the Dataframe as a new CSV file without the index.

bike_data_df.to_csv('bike_data_converted.csv', index=False, header=True)